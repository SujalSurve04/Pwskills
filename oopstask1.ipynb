{
 "cells": [
  {
   "cell_type": "code",
   "execution_count": 17,
   "id": "b264af59-3f8c-4c0a-a8d5-f0ac0f41d473",
   "metadata": {},
   "outputs": [
    {
     "data": {
      "text/plain": [
       "(' maruti suzuki', 60, 120)"
      ]
     },
     "execution_count": 17,
     "metadata": {},
     "output_type": "execute_result"
    }
   ],
   "source": [
    "#Q1, Create a vehicle class with an init method having instance variables as name_of_vehicle, max_speed and average_of_vehicle.\n",
    "class Vehicle:\n",
    "     def __init__(self, name, average, max_speed):\n",
    "        self.name_of_vehicle = name\n",
    "        self.max_speed = max_speed\n",
    "        self.average_of_vehicle = average\n",
    "car= Vehicle( ' maruti suzuki',60,120)\n",
    "car.name_of_vehicle,car.average_of_vehicle,car.max_speed \n",
    "\n",
    "\n",
    "\n"
   ]
  },
  {
   "cell_type": "code",
   "execution_count": 24,
   "id": "9e7dceaf-9909-4d2a-86a1-58d270b4eb62",
   "metadata": {},
   "outputs": [
    {
     "name": "stdout",
     "output_type": "stream",
     "text": [
      "Maruti Suzuki - Seating Capacity: 6\n"
     ]
    }
   ],
   "source": [
    " #Q2. Create a child class car from the vehicle class created in Que 1, which will inherit the vehicle class.Create a method named seating_capacity \n",
    "#which takes capacity as an argument and returns the name of the vehicle and its seating capacity.\n",
    "class Vehicle:\n",
    "    def __init__(self, name, average, max_speed):\n",
    "        self.name_of_vehicle = name\n",
    "        self.average = average\n",
    "        self.max_speed = max_speed\n",
    "\n",
    "class Car(Vehicle):\n",
    "    def __init__(self, name, average, max_speed, capacity):\n",
    "        super().__init__(name, average, max_speed)\n",
    "        self.seating_capacity_value = capacity\n",
    "\n",
    "    def seating_capacity(self, capacity):\n",
    "        return f\"{self.name_of_vehicle} - Seating Capacity: {capacity}\"\n",
    "\n",
    "# Example usage\n",
    "car_ins = Car(name=\"Maruti Suzuki\", average=60, max_speed=160, capacity=6)\n",
    "print(car_ins.seating_capacity(car_ins.seating_capacity_value))\n"
   ]
  },
  {
   "cell_type": "code",
   "execution_count": 29,
   "id": "fd35d672-a14c-4b38-842e-d9626f00f252",
   "metadata": {},
   "outputs": [
    {
     "name": "stdout",
     "output_type": "stream",
     "text": [
      "The color is Brown\n"
     ]
    }
   ],
   "source": [
    "# Q3. What is multiple inheritance? Write a python code to demonstrate multiple inheritance.\n",
    "''' Ans: Multiple inheritance in object-oriented programming refers to the ability of a class to inherit attributes and methods from more than one parent class.In Python, a class can inherit from\n",
    "multiple classes, allowing it to access the attributes and methods of each parent class. However, multiple inheritance can lead to complexities and potential conflicts, so it should be used carefully. '''\n",
    "\n",
    "# Parent class 1\n",
    "class Animal:\n",
    "    def __init__(self, species):\n",
    "        self.species = species\n",
    "\n",
    "    def speak(self):\n",
    "        print(\"Generic animal sound\")\n",
    "\n",
    "# Parent class 2\n",
    "class Color:\n",
    "    def __init__(self, color):\n",
    "        self.color = color\n",
    "\n",
    "    def show_color(self):\n",
    "        print(f\"The color is {self.color}\")\n",
    "\n",
    "# Child class inheriting from both Animal and Color\n",
    "class Dog(Animal, Color):\n",
    "    def __init__(self, name, species, color):\n",
    "        Animal.__init__(self, species)\n",
    "        Color.__init__(self, color)\n",
    "        self.name = name\n",
    "    def speak(self):\n",
    "        print(\"Woof!\")\n",
    "\n",
    "\n",
    "dog_ins = Dog(name=\"Buddy\", species=\"Dog\", color=\"Brown\")\n",
    "dog_ins.show_color()"
   ]
  },
  {
   "cell_type": "code",
   "execution_count": 31,
   "id": "764818df-359c-49be-bd12-99e565c8b4ae",
   "metadata": {},
   "outputs": [
    {
     "name": "stdout",
     "output_type": "stream",
     "text": [
      "Name: Sujal\n",
      "Age: 20\n",
      "Updated Name: Sujal\n",
      "Updated Age: 22\n"
     ]
    }
   ],
   "source": [
    "#Q4. What are getter and setter in python? Create a class and create a getter and a setter method in this class.\n",
    "''' In Python, getter and setter methods are used to access and modify the private attributes of a class, respectively. They provide a way to encapsulate\n",
    "the internal state of an object and control its access.'''\n",
    "class Student:\n",
    "    def __init__(self, name, age):\n",
    "        self._name = name  # private attribute\n",
    "        self._age = age    # private attribute\n",
    "\n",
    "    # Getter method for name\n",
    "    def get_name(self):\n",
    "        return self._name\n",
    "\n",
    "    # Getter method for age\n",
    "    def get_age(self):\n",
    "        return self._age\n",
    "\n",
    "    # Setter method for name\n",
    "    def set_name(self, name):\n",
    "        self._name = name\n",
    "\n",
    "    # Setter method for age\n",
    "    def set_age(self, age):\n",
    "        if age > 0:\n",
    "            self._age = age\n",
    "        else:\n",
    "            print(\"Age must be a positive integer.\")\n",
    "\n",
    "\n",
    "student = Student(name=\"Sujal\", age=20)\n",
    "print(f\"Name: {student.get_name()}\")\n",
    "print(f\"Age: {student.get_age()}\")\n",
    "student.set_name(\"Sujal\")\n",
    "student.set_age(22)\n",
    "print(f\"Updated Name: {student.get_name()}\")\n",
    "print(f\"Updated Age: {student.get_age()}\")\n",
    "\n",
    "\n"
   ]
  },
  {
   "cell_type": "code",
   "execution_count": null,
   "id": "efaed0cd-ae5f-4ba0-aa57-f3a6880f61c6",
   "metadata": {},
   "outputs": [],
   "source": [
    "#\n",
    "'''Method overriding in Python occurs when a child class provides a specific implementation for a method that is already defined in its parent class. \n",
    "The child class overrides the behavior of the parent class method. '''\n",
    "class Shape:\n",
    "    def area(self):\n",
    "        return 0\n",
    "\n",
    "class Circle(Shape):\n",
    "    def __init__(self, radius):\n",
    "        self.radius = radius\n",
    "\n",
    "    # Override the area method in the parent class\n",
    "    def area(self):\n",
    "        return 3.14 * self.radius ** 2\n",
    "\n",
    "\n",
    "circle = Circle(radius=5)\n",
    "print(f\"Area of the circle: {circle.area()}\")\n"
   ]
  }
 ],
 "metadata": {
  "kernelspec": {
   "display_name": "Python 3 (ipykernel)",
   "language": "python",
   "name": "python3"
  },
  "language_info": {
   "codemirror_mode": {
    "name": "ipython",
    "version": 3
   },
   "file_extension": ".py",
   "mimetype": "text/x-python",
   "name": "python",
   "nbconvert_exporter": "python",
   "pygments_lexer": "ipython3",
   "version": "3.10.8"
  }
 },
 "nbformat": 4,
 "nbformat_minor": 5
}
